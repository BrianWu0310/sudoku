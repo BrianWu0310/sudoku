{
  "nbformat": 4,
  "nbformat_minor": 0,
  "metadata": {
    "colab": {
      "provenance": []
    },
    "kernelspec": {
      "name": "python3",
      "display_name": "Python 3"
    },
    "language_info": {
      "name": "python"
    }
  },
  "cells": [
    {
      "cell_type": "code",
      "execution_count": null,
      "metadata": {
        "id": "jPqOIKZvne2y"
      },
      "outputs": [],
      "source": [
        "import random\n",
        "import copy\n",
        "\n",
        "def is_valid(board, row, col, num):\n",
        "    for i in range(9):\n",
        "        if board[row][i] == num or board[i][col] == num:\n",
        "            return False\n",
        "\n",
        "    start_row, start_col = 3 * (row // 3), 3 * (col // 3)\n",
        "    for i in range(3):\n",
        "        for j in range(3):\n",
        "            if board[start_row + i][start_col + j] == num:\n",
        "                return False\n",
        "\n",
        "    return True\n",
        "\n",
        "def generate_sudoku(board):\n",
        "    for row in range(9):\n",
        "        for col in range(9):\n",
        "            if board[row][col] == 0:\n",
        "                numbers = list(range(1, 10))\n",
        "                random.shuffle(numbers)\n",
        "                for num in numbers:\n",
        "                    if is_valid(board, row, col, num):\n",
        "                        board[row][col] = num\n",
        "                        if generate_sudoku(board):\n",
        "                            return True\n",
        "                        board[row][col] = 0\n",
        "                return False\n",
        "    return True\n",
        "\n",
        "def find_empty_location(board):\n",
        "    for row in range(9):\n",
        "        for col in range(9):\n",
        "            if board[row][col] == 0:\n",
        "                return row, col\n",
        "    return None\n",
        "\n",
        "def solve_sudoku(board):\n",
        "    location = find_empty_location(board)\n",
        "    if not location:\n",
        "        return True\n",
        "    row, col = location\n",
        "\n",
        "    for num in range(1, 10):\n",
        "        if is_valid(board, row, col, num):\n",
        "            board[row][col] = num\n",
        "            if solve_sudoku(board):\n",
        "                return True\n",
        "            board[row][col] = 0\n",
        "\n",
        "    return False\n",
        "\n",
        "def has_unique_solution(board):\n",
        "    temp_board = copy.deepcopy(board)\n",
        "    return solve_sudoku(temp_board)\n",
        "\n",
        "def remove_numbers(board, num_holes):\n",
        "    while num_holes > 0:\n",
        "        row, col = random.randint(0, 8), random.randint(0, 8)\n",
        "        while board[row][col] == 0:\n",
        "            row, col = random.randint(0, 8), random.randint(0, 8)\n",
        "        temp = board[row][col]\n",
        "        board[row][col] = 0\n",
        "\n",
        "        temp_board = copy.deepcopy(board)\n",
        "        if not has_unique_solution(temp_board):\n",
        "            board[row][col] = temp\n",
        "        else:\n",
        "            num_holes -= 1\n",
        "\n",
        "\n",
        "def print_sudoku(board):\n",
        "    for row in board:\n",
        "        print(\" \".join(str(num) if num != 0 else \".\" for num in row))\n",
        "\n",
        "\n",
        "def create_sudoku_puzzle(difficulty):\n",
        "    board = [[0 for _ in range(9)] for _ in range(9)]\n",
        "    generate_sudoku(board)\n",
        "\n",
        "    solution = copy.deepcopy(board)\n",
        "\n",
        "    if difficulty == 'easy':\n",
        "        remove_numbers(board, 30)\n",
        "    elif difficulty == 'medium':\n",
        "        remove_numbers(board, 40)\n",
        "    elif difficulty == 'hard':\n",
        "        remove_numbers(board, 50)\n",
        "\n",
        "    return board, solution"
      ]
    },
    {
      "cell_type": "code",
      "source": [
        "difficulty = input(\"請選擇難度 (easy, medium, hard): \").strip().lower()\n",
        "sudoku_board, sudoku_solution = create_sudoku_puzzle(difficulty)"
      ],
      "metadata": {
        "colab": {
          "base_uri": "https://localhost:8080/"
        },
        "id": "oE15hLh2PNc2",
        "outputId": "632f6e4f-85df-460f-9953-8d6725fc0692"
      },
      "execution_count": null,
      "outputs": [
        {
          "name": "stdout",
          "output_type": "stream",
          "text": [
            "請選擇難度 (easy, medium, hard): easy\n"
          ]
        }
      ]
    },
    {
      "cell_type": "code",
      "source": [
        "print(\"數獨題目:\")\n",
        "print_sudoku(sudoku_board)"
      ],
      "metadata": {
        "colab": {
          "base_uri": "https://localhost:8080/"
        },
        "id": "jQf6YkV-PPGO",
        "outputId": "80b1a5c7-d769-4372-f88f-4983cc2b60e6"
      },
      "execution_count": null,
      "outputs": [
        {
          "output_type": "stream",
          "name": "stdout",
          "text": [
            "數獨題目:\n",
            "5 . 6 . . . 9 3 1\n",
            ". 8 7 1 4 . 5 2 6\n",
            "2 9 1 3 . 5 8 . .\n",
            "4 . 9 5 1 7 2 6 8\n",
            "8 6 5 . 2 . 4 . 7\n",
            "7 1 . . 8 6 . 9 5\n",
            ". . . . 5 . 1 . 9\n",
            ". 5 . 6 . 1 7 . .\n",
            "1 . 8 7 9 4 . 5 .\n"
          ]
        }
      ]
    },
    {
      "cell_type": "code",
      "source": [
        "print(\"數獨解答:\")\n",
        "print_sudoku(sudoku_solution)"
      ],
      "metadata": {
        "colab": {
          "base_uri": "https://localhost:8080/"
        },
        "id": "ele1A9wxPQRW",
        "outputId": "430e4b5e-302a-40ea-ac6b-89be02be6025"
      },
      "execution_count": null,
      "outputs": [
        {
          "output_type": "stream",
          "name": "stdout",
          "text": [
            "數獨解答:\n",
            "5 4 6 2 7 8 9 3 1\n",
            "3 8 7 1 4 9 5 2 6\n",
            "2 9 1 3 6 5 8 7 4\n",
            "4 3 9 5 1 7 2 6 8\n",
            "8 6 5 9 2 3 4 1 7\n",
            "7 1 2 4 8 6 3 9 5\n",
            "6 7 3 8 5 2 1 4 9\n",
            "9 5 4 6 3 1 7 8 2\n",
            "1 2 8 7 9 4 6 5 3\n"
          ]
        }
      ]
    }
  ]
}